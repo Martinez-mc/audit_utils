{
 "cells": [
  {
   "cell_type": "markdown",
   "metadata": {},
   "source": [
    "**xlwings Notes**\n",
    "\n",
    "Xlwings is an open-source Python library used for controlling and automating tasks in Excel.  These notes contains some routines for spreadsheet manipulation."
   ]
  },
  {
   "cell_type": "code",
   "execution_count": null,
   "metadata": {},
   "outputs": [],
   "source": [
    "# Import libraries\n",
    "import xlwings as xw "
   ]
  },
  {
   "cell_type": "code",
   "execution_count": null,
   "metadata": {},
   "outputs": [],
   "source": [
    "# (Live book) Works on the active app, book, sheet \n",
    "# Lets you interact with any open book without fully qualifying path.\n",
    "app = xw.apps.active\n",
    "wb = app.books.active\n",
    "sht = wb.sheets.active"
   ]
  },
  {
   "cell_type": "code",
   "execution_count": null,
   "metadata": {},
   "outputs": [],
   "source": [
    "# See if a cell is empty\n",
    "for cell in sht.range('A2:A10'):\n",
    "    if cell.value == None:\n",
    "        cell.value = \"Hello\""
   ]
  },
  {
   "cell_type": "markdown",
   "metadata": {},
   "source": [
    "**Offset**\n",
    "\n",
    "Lets say you want to copy a cell (range) into an adjacent cell. (offset(row, column))\n",
    "\n",
    "* row positive number will move down.\n",
    "* row negative number will move up.\n",
    "* column positive number will move right\n",
    "* column negative number will move to left."
   ]
  },
  {
   "cell_type": "code",
   "execution_count": null,
   "metadata": {},
   "outputs": [],
   "source": [
    "for cell in sht.range('C2:C10'):\n",
    "    cell.offset(0, -1).value = cell.value "
   ]
  },
  {
   "cell_type": "markdown",
   "metadata": {},
   "source": [
    "Perform a forward fill"
   ]
  },
  {
   "cell_type": "code",
   "execution_count": null,
   "metadata": {},
   "outputs": [],
   "source": [
    "# Gap Filler\n",
    "for cell in sht.range('A2:A20'):\n",
    "    if cell.value == None:\n",
    "        cell.value = cell.offset(-1, 0).value"
   ]
  },
  {
   "cell_type": "markdown",
   "metadata": {},
   "source": [
    " In case you want to test if the cell content starts with a number. (Gets more interesting if regular expressions are used.)"
   ]
  },
  {
   "cell_type": "code",
   "execution_count": null,
   "metadata": {},
   "outputs": [],
   "source": [
    "for cell in sht.range('A1:A10'):\n",
    "    if cell.value[0].isdigit():\n",
    "        print(cell.value)\n",
    "    else:\n",
    "        print(\"Does not start with a number\")"
   ]
  },
  {
   "cell_type": "markdown",
   "metadata": {},
   "source": [
    "Sometimes you would want to clear a cell based on its contents."
   ]
  },
  {
   "cell_type": "code",
   "execution_count": null,
   "metadata": {},
   "outputs": [],
   "source": [
    "#Cell Deleter\n",
    "for cell in sht.range('A1:A10'):\n",
    "    if cell.value[0].isdigit():\n",
    "        print(cell.value)\n",
    "    else:\n",
    "        cell.value = None"
   ]
  },
  {
   "cell_type": "markdown",
   "metadata": {},
   "source": [
    "What if we want to delete every row that has a Bold value in a specific range?"
   ]
  },
  {
   "cell_type": "code",
   "execution_count": null,
   "metadata": {},
   "outputs": [],
   "source": [
    "import xlwings as xw\n",
    "from xlwings import Range\n",
    "\n",
    "for cell in Range('A7:A10366'):\n",
    "    if cell.api.Font.Bold == True:\n",
    "        cell.api.Delete()"
   ]
  },
  {
   "cell_type": "code",
   "execution_count": null,
   "metadata": {},
   "outputs": [],
   "source": []
  }
 ],
 "metadata": {
  "kernelspec": {
   "display_name": "env",
   "language": "python",
   "name": "python3"
  },
  "language_info": {
   "codemirror_mode": {
    "name": "ipython",
    "version": 3
   },
   "file_extension": ".py",
   "mimetype": "text/x-python",
   "name": "python",
   "nbconvert_exporter": "python",
   "pygments_lexer": "ipython3",
   "version": "3.13.2"
  }
 },
 "nbformat": 4,
 "nbformat_minor": 2
}
